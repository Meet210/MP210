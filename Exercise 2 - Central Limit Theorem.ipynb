{
  "cells": [
    {
      "cell_type": "markdown",
      "metadata": {
        "id": "bsrpkw7KnoiV"
      },
      "source": [
        "Meet Patel 216422925\n",
        "<br>\n",
        "Date: Jan. 14, 2021\n",
        "<br>\n",
        "PHYS 2030 W22"
      ]
    },
    {
      "cell_type": "markdown",
      "metadata": {
        "id": "SjZ-CwpQnoiX"
      },
      "source": [
        "## <center><font color=#46769B>Exercise 2: Central Limit Theorem</font></center>\n",
        "\n",
        "## <font color=#46769B>Introduction:</font>\n",
        "\n",
        "Our goals for this notebook are:\n",
        "- Verify that the central limit theorem holds for flipping a coin\n",
        "\n",
        "Required reading:\n",
        "- *Lesson 2: Monte Carlo sampling*"
      ]
    },
    {
      "cell_type": "markdown",
      "metadata": {
        "id": "R02zz3punoiX"
      },
      "source": [
        "## <font color=#46769B>A remarkable fact about the Central Limit Theorem (CLT):</font>\n",
        "\n",
        "Suppose we have samples of $x$ that come from a probability distribution $P(x)$:\n",
        "$$\\left(x_0, \\, x_1, \\, x_2, \\, ..., \\, x_{N-1}\\right)$$\n",
        "The CLT tells us that if we perform many such simulations, the mean values $\\langle x \\rangle$ we obtain will follow a normal distribution around the true mean $\\mu$ of $P(x)$.\n",
        "\n",
        "Notice we didn't require that $P(x)$ *itself* was a normal distribution. In fact, $P(x)$ can be *any* discrete or continuous distribution. Nevertheless, the mean values of the samples will follow a *normal distribution*.\n",
        "\n",
        "Here we will consider the CLT in the context of flipping a coin, where $P(x)$ is certainly not a normal distribution."
      ]
    },
    {
      "cell_type": "markdown",
      "metadata": {
        "id": "tzDavGEVnoiY"
      },
      "source": [
        "## <font color=#46769B>Part 1: Flipping a coin</font>\n",
        "\n",
        "The goal of this exercise is to verify that the CLT holds for flipping a coin. The setup is:\n",
        "- We flip a coin $N$ times, each time yielding either heads ($x=1$) with probability $p$, or tails ($x=0$) with probability $1-p$. \n",
        "- We will not assume a fair coin, setting $p=0.6$.\n",
        "\n",
        "Similar to Lecture 2, write a code `coin_flip_simulation(num)` that will return the mean value $\\langle x \\rangle$ after `num` coin flips."
      ]
    },
    {
      "cell_type": "code",
      "execution_count": 3,
      "metadata": {
        "id": "kXkMMGyZnoiY"
      },
      "outputs": [],
      "source": [
        "# Your answer to exercise 1 here\n",
        "\n",
        "import numpy as np\n",
        "import matplotlib.pyplot as plt\n",
        "\n",
        "def coin_flip_simulation(num):\n",
        "    \n",
        "    # Your code here\n",
        "\n",
        "    #Define Option Conditions\n",
        "    Heads = 1 \n",
        "    Tails = 0 \n",
        "    Options = [Heads,Tails]\n",
        "    #Randomly sample a length of num for options heads and tails and store in a vector. \n",
        "    samples = np.random.choice(Options,num)\n",
        "    #Mean calulcation\n",
        "    mean = np.mean(samples)\n",
        "\n",
        "    return mean\n"
      ]
    },
    {
      "cell_type": "code",
      "source": [
        "#Testing Coin Flip Simulation\n",
        "coin_flip_simulation(50)"
      ],
      "metadata": {
        "id": "LhRn-f-ByElJ",
        "outputId": "47cbf9dd-6f6e-4d6b-af24-97d7fbed26e2",
        "colab": {
          "base_uri": "https://localhost:8080/"
        }
      },
      "execution_count": 6,
      "outputs": [
        {
          "output_type": "execute_result",
          "data": {
            "text/plain": [
              "0.5"
            ]
          },
          "metadata": {},
          "execution_count": 6
        }
      ]
    },
    {
      "cell_type": "markdown",
      "metadata": {
        "id": "DvnHfn0OnoiZ"
      },
      "source": [
        "## <font color=#46769B>Part 2: Central Limit Theorem</font>\n",
        "\n",
        "Perform 1000 simulations, each with `num=100`, and save your results as `list_of_means`, a list of values of $\\langle x \\rangle$ for each simulation. \n",
        "- Calculate the mean and standard deviation of `list_of_means`. Check that it agrees with the CLT.\n",
        "- Make a histogram `list_of_means` and compare it to a normal distribution predicted by the CLT."
      ]
    },
    {
      "cell_type": "code",
      "execution_count": 24,
      "metadata": {
        "id": "2RfXIH7UnoiZ",
        "outputId": "31d9c88e-dfad-4338-8e17-15c8449900f9",
        "colab": {
          "base_uri": "https://localhost:8080/"
        }
      },
      "outputs": [
        {
          "output_type": "stream",
          "name": "stdout",
          "text": [
            "mean is : 0.49949\n",
            "standard deviation is : 0.049846162339742865\n"
          ]
        }
      ],
      "source": [
        "# Your answer to exercise 2 here\n",
        "\n",
        "#Create a list of length num using  for loop to store mean values\n",
        "num = 100 \n",
        "list_of_means = []\n",
        "for i in range(1000):\n",
        "  list_of_means.append(coin_flip_simulation(num))\n",
        "  #Append to coin_flip_simulation as we want to run 1000 simulations \n",
        "m = np.mean(list_of_means)\n",
        "std = np.std(list_of_means)\n",
        "print(\"mean is : \"+ str(m))\n",
        "print(\"standard deviation is : \"+ str(std))"
      ]
    },
    {
      "cell_type": "code",
      "source": [
        "#Histogram \n",
        "mu = m\n",
        "sigma = std\n",
        "plt.hist(list_of_means,bins=15,density=True,label='sampling distribution')\n",
        "x = np.linspace(0.30,0.70)\n",
        "y = 1/np.sqrt(2*np.pi*sigma**2) * np.exp(-0.5*(x-mu)**2/sigma**2)\n",
        "plt.plot(x,y,label='normal distribution from CLT')\n",
        "plt.legend()\n",
        "plt.show()"
      ],
      "metadata": {
        "id": "OAvUmdOkz3er",
        "outputId": "b369ed8e-acdc-4847-a6f0-7a1051c992f3",
        "colab": {
          "base_uri": "https://localhost:8080/",
          "height": 265
        }
      },
      "execution_count": 32,
      "outputs": [
        {
          "output_type": "display_data",
          "data": {
            "image/png": "[encoded data removed]",
            "text/plain": [
              "<Figure size 432x288 with 1 Axes>"
            ]
          },
          "metadata": {
            "needs_background": "light"
          }
        }
      ]
    }
  ],
  "metadata": {
    "kernelspec": {
      "display_name": "Python 3",
      "language": "python",
      "name": "python3"
    },
    "language_info": {
      "codemirror_mode": {
        "name": "ipython",
        "version": 3
      },
      "file_extension": ".py",
      "mimetype": "text/x-python",
      "name": "python",
      "nbconvert_exporter": "python",
      "pygments_lexer": "ipython3",
      "version": "3.7.6"
    },
    "colab": {
      "name": "Exercise 2 - Central Limit Theorem.ipynb",
      "provenance": []
    }
  },
  "nbformat": 4,
  "nbformat_minor": 0
}