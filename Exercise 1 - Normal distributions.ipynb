{
  "cells": [
    {
      "cell_type": "markdown",
      "metadata": {
        "id": "gQQx4vcbg5XT"
      },
      "source": [
        "Meet Patel 216422925\n",
        "<br>\n",
        "Date: Jan. 12, 2021\n",
        "<br>\n",
        "PHYS 2030 W22"
      ]
    },
    {
      "cell_type": "markdown",
      "metadata": {
        "id": "7yuoDg9zg5XU"
      },
      "source": [
        "# <center><font color=#46769B>Exercise 1: Error propagation via random sampling</font></center>\n",
        "\n",
        "## <font color=#46769B>Introduction:</font>\n",
        "\n",
        "Our goals for this notebook are:\n",
        "- Practice with sampling from normal distributions.\n",
        "- Practice some basics of using `numpy` and `matplotlib.pyplot`.\n",
        "- Learn a new technique for propagation of errors.\n",
        "\n",
        "Required reading:\n",
        "- *Lesson 1: Normal distributions*\n",
        "\n",
        "Guidelines: \n",
        "- You are allowed to use resources such as websites or textbooks if you need help figuring things out. \n",
        "- You are *not allowed* to work with any collaborators on this assignment, including your peers or tutoring services.\n",
        "\n",
        "By submitting this assignment, you acknowledge: \n",
        "- Any code written here is the result of your own work and is written by you.\n",
        "- Any information sources (e.g., websites) used outside of the course material will be *cited* (provide URLs). "
      ]
    },
    {
      "cell_type": "markdown",
      "metadata": {
        "id": "jR2u0QfTg5XV"
      },
      "source": [
        "## <font color=#46769B>Error propagation:</font>\n",
        "\n",
        "In lab courses, it is standard practice to do error propagation. For example, suppose you have two measured quantities $A,B$. That is, you have their mean values $\\langle A \\rangle$, $\\langle B\\rangle$, and their uncertainties $\\Delta A,\\Delta B$. \n",
        "Now suppose you want to calculate the mean and error for a new quantity $C = f(A,B)$ that is a function of $A,B$. What do you do?\n",
        "- Take the mean to be $\\langle C \\rangle = f(\\langle A \\rangle, \\langle B \\rangle)$. But you may wonder: is this an approximation or is it always true? \n",
        "- Calculate the error $\\Delta C$ using the rules for error propagation. How straightforward this is depends on how complex $f$ is (and how well one remembers the rules).\n",
        "\n",
        "Random sampling is another way to approach this problem. There is just one procedure to remember.\n",
        "- Generate random samples for $A$ and $B$. That is, you generate a list of $N$ values for each quantity<font color=red>$^1$</font>\n",
        "$$\\left(A_0, A_1, ..., A_{N-1}\\right) \\, ,  \\qquad \\left(B_0, B_1, ..., B_{N-1}\\right)\\, .$$\n",
        "- For every pair $A_i, B_i$, compute $C_i = f(A_i, B_i)$ to generate samples for $C$:\n",
        "$$\\left(C_0, C_1, ..., C_{N-1}\\right)\\, .$$\n",
        "- Using your samples for $C$, calculate the mean value $\\langle C \\rangle$ and standard deviation for $\\Delta C$.\n",
        "\n",
        "There are two things to keep in mind:\n",
        "- $N$ must be large enough so that your values for $\\langle C \\rangle$ and $\\Delta C$ converge, i.e., you get the same result (up to significant figures) for multiple simulations.\n",
        "- How you sample quantities $A,B$ is up to you. A normal distribution is typically *default* assumption for how to sample, especially if the errors quoted for $A,B$ are *random* or *statitistical* errors.<font color=red>$^2$</font> But you can sample in a different way if you have more information about the problem, or if you want to include systematic errors (we will see an example below).\n",
        "\n",
        "### <font color=#46769B>Footnotes:</font>\n",
        "\n",
        "<font color=red>$^1$</font> Note since Python counting starts at zero, I will follow the same numbering conventions though it looks a bit messier.\n",
        "\n",
        "<font color=red>$^2$</font> *Random* errors are due to the fact that repeated measurements will not give exactly the same results each time, due to unpredictable differences in the measurement setup or observer. This is why one performs multiple measurements and averages over them. For example, you measure a length with a ruler and get ten slightly different numbers each time. In contrast, *systematic* errors are errors that are the same for all measurements. For example, suppose your ruler is of poor quality and all lengths skewed too short by 5\\%.\n"
      ]
    },
    {
      "cell_type": "markdown",
      "metadata": {
        "id": "VxFMYRWpg5XW"
      },
      "source": [
        "## <font color=#46769B>Part 1: Pendulum</font>\n",
        "\n",
        "The standard formula for the oscillation period of a pendulum is\n",
        "$$T = 2\\pi \\sqrt{L/g}$$\n",
        "where $g$ is the gravitational acceleration and $L$ is the length of the pendulum. Suppose we have measured the period and length of the pendulum to be:\n",
        "$$T = 1.835 \\pm 0.005 \\; {\\rm s} \\, , \\qquad L = 0.855 \\pm 0.002 \\; {\\rm m} \\, .$$\n",
        "\n",
        "### <font color=#46769B>Part (1a)</font>\n",
        "Using random sampling for $T$ and $L$, determine $g$, with a sample size of $N=100$.\n",
        "- Assume the errors quoted for $T$ and $L$ are random errors and generate samples using a normal distribution.\n",
        "- Determine both the mean $\\langle g \\rangle$ and uncertainty $\\Delta g$. Write *your own* code for calculating the mean and standard deviations for your samples for $g$ and verify that it agrees with what you get using `numpy.mean` and `numpy.std`.\n",
        "- Plot a histogram for your samples for $g$, choosing a suitable number of histogram bins.\n",
        "\n",
        "### <font color=#46769B>Part (2b)</font>\n",
        "- Repeat part (a) for a larger value of $N$ where your results have converged.\n",
        "- Compare your histogram for $g$ to a normal distribution of mean $\\mu=\\langle g \\rangle$ and standard deviation $\\sigma = \\Delta g$. (Make a plot of the normal distribution on top of the histogram. Be sure to normalize your histogram and choose a suitable number of bins.)"
      ]
    },
    {
      "cell_type": "code",
      "execution_count": 1,
      "metadata": {
        "id": "xpoj9uj3g5XX"
      },
      "outputs": [],
      "source": [
        "# Your answer to exercise 1 here\n",
        "import math\n",
        "import numpy as np\n",
        "import matplotlib.pyplot as plt"
      ]
    },
    {
      "cell_type": "code",
      "source": [
        "# Part (1a)\n",
        "# T = 2*math.pi*math.sqrt(L/g) \n",
        "# Re-arrange to solve for g \n",
        "# g = L*4pi^2/T^2\n",
        "arrT = np.random.normal(1.835,0.005,100)\n",
        "arrL = np.random.normal(0.855,0.002,100)\n",
        "g = (arrL*4*(math.pi**2))/arrT**2\n",
        "print(g)"
      ],
      "metadata": {
        "id": "Pl18ILKloVhi",
        "outputId": "7e4eeffd-5fac-4fe6-89b0-a07816f59258",
        "colab": {
          "base_uri": "https://localhost:8080/"
        }
      },
      "execution_count": 2,
      "outputs": [
        {
          "output_type": "stream",
          "name": "stdout",
          "text": [
            "[10.04490006 10.00534726 10.03509835 10.01536355 10.07339387  9.99884353\n",
            " 10.0248616  10.12631498 10.04338286 10.16847713 10.11791238 10.07585396\n",
            "  9.96074629 10.10703051 10.090702   10.10655024 10.09600531 10.04992711\n",
            "  9.89685305 10.08925879 10.0650959  10.05771669 10.13266461  9.99488643\n",
            "  9.95753608 10.06420663  9.95244302 10.08617957 10.10968972 10.04178233\n",
            " 10.11464152 10.01171257 10.03885357  9.94057534  9.94360662 10.09722682\n",
            " 10.02405773 10.07002807 10.08598667 10.09712025  9.98245602 10.03735721\n",
            " 10.07687746 10.00762121 10.06251597  9.9924223   9.99763145 10.06811975\n",
            " 10.04262803 10.01451998 10.01523573  9.93204325  9.99068196  9.94477543\n",
            "  9.95238665  9.98233516 10.03387478  9.94040895 10.01025671 10.09708492\n",
            " 10.0036038  10.06337237 10.05019349 10.05942715  9.970884   10.01491398\n",
            " 10.02730846 10.01409706  9.96506993 10.09792773 10.0480638  10.01404414\n",
            "  9.88564671 10.04719937  9.99970597  9.98343209 10.04866825  9.96810046\n",
            "  9.91298005 10.06366271  9.91475235 10.04049949  9.95960173  9.96315527\n",
            "  9.99476237  9.97195338 10.07250972  9.97960549 10.10641481  9.99395904\n",
            " 10.13176214 10.0044988  10.02251604 10.02778923 10.00432195 10.1342333\n",
            " 10.01106416  9.99229292 10.07004947  9.91508611]\n"
          ]
        }
      ]
    },
    {
      "cell_type": "code",
      "source": [
        "#Mean and Standard Deviation Results\n",
        "print(\"mean is \" +str(np.mean(g)))\n",
        "print(\"standard deviation is \" + str(np.std(g)))\n",
        "#Note:Everytime the random sampling code from above is run, it will change the results of the mean and standard deviation "
      ],
      "metadata": {
        "id": "Ow9TWQm3oW1P",
        "outputId": "67ef4f63-6259-45ca-cda5-a6b6157bc58d",
        "colab": {
          "base_uri": "https://localhost:8080/"
        }
      },
      "execution_count": 3,
      "outputs": [
        {
          "output_type": "stream",
          "name": "stdout",
          "text": [
            "mean is 10.027431952210835\n",
            "standard deviation is 0.05905417743064214\n"
          ]
        }
      ]
    },
    {
      "cell_type": "code",
      "source": [
        "#Histogram for g\n",
        "plt.hist(g,bins=10,density=True,label='sampling')\n",
        "plt.show()"
      ],
      "metadata": {
        "id": "Z91hOW6MoXy6",
        "outputId": "bd1bf0f1-5288-4c1f-e3ff-8d60a4a1aad2",
        "colab": {
          "base_uri": "https://localhost:8080/",
          "height": 268
        }
      },
      "execution_count": 5,
      "outputs": [
        {
          "output_type": "display_data",
          "data": {
            "image/png": "[encoded data removed]",
            "text/plain": [
              "<Figure size 432x288 with 1 Axes>"
            ]
          },
          "metadata": {
            "needs_background": "light"
          }
        }
      ]
    },
    {
      "cell_type": "code",
      "source": [
        "#Part(2a)\n",
        "arrTT = np.random.normal(1.835,0.005,50000)\n",
        "arrLL = np.random.normal(0.855,0.002,50000)\n",
        "gg = (arrLL*4*(math.pi**2))/arrTT**2\n",
        "mu = np.mean(gg)\n",
        "sigma = np.std(gg)\n",
        "print(\"mean is \" +str(np.mean(gg)))\n",
        "print(\"standard deviation is \" + str(np.std(gg)))\n",
        "#Sample is large enough where <C> and DeltaC converge. I get the same result with significant digits for multiple simulations"
      ],
      "metadata": {
        "id": "thKekio2oaek",
        "outputId": "3e8e0428-196e-498a-d51b-4d6bea7b3a81",
        "colab": {
          "base_uri": "https://localhost:8080/"
        }
      },
      "execution_count": 6,
      "outputs": [
        {
          "output_type": "stream",
          "name": "stdout",
          "text": [
            "mean is 10.024779235873245\n",
            "standard deviation is 0.05939939509618398\n"
          ]
        }
      ]
    },
    {
      "cell_type": "code",
      "source": [
        "#Histogram for part 1 and part 2\n",
        "plt.hist(gg,bins=20,density=True,label='sampling')\n",
        "x = np.linspace(9.7,10.4)\n",
        "y = 1/np.sqrt(2*np.pi*sigma**2) * np.exp(-0.5*(x-mu)**2/sigma**2)\n",
        "plt.plot(x,y,label='normal dist.')\n",
        "plt.legend()\n",
        "plt.show()"
      ],
      "metadata": {
        "id": "5V0ZvBFkobU_",
        "outputId": "4ccd85c8-dbfe-4033-fc92-6535844463b5",
        "colab": {
          "base_uri": "https://localhost:8080/",
          "height": 268
        }
      },
      "execution_count": 7,
      "outputs": [
        {
          "output_type": "display_data",
          "data": {
            "image/png": "[encoded data removed]",
            "text/plain": [
              "<Figure size 432x288 with 1 Axes>"
            ]
          },
          "metadata": {
            "needs_background": "light"
          }
        }
      ]
    },
    {
      "cell_type": "markdown",
      "metadata": {
        "id": "aiiQHw8ng5XY"
      },
      "source": [
        "## <font color=#46769B>Part 2: Pendulum continued</font>\n",
        "\n",
        "Here we will consider the same example with an extra source of systematic error.\n",
        "\n",
        "Suppose we learn that the timing setup used for measuring the period $T$ may suffer from a uniform time delay $\\delta T$ from starting and stopping. That is, oscillation formula becomes\n",
        "$$T_0 = 2\\pi \\sqrt{L/g}$$\n",
        "where $T_0 = T + \\delta T$ is the *true* oscillation period and $T$ is the quantity we measure (given above). \n",
        "\n",
        "Suppose we know that $\\delta T$ is between $0-0.05$ s, but is otherwise unknown and all values in this range are equally likely. It makes sense to sample $\\delta T$ from a uniform distribution in the range $[0,0.05]$. (That is, you will sample $T_0$ as the *sum* of a normally-distributed variable $T$ and a uniformly sampled variable $\\delta T$.)\n",
        "\n",
        "- Using the values quoted above for $T$ and $L$, and including $\\delta T$ in your analysis, determine the mean value and uncertainty for $g$ (choose $N$ large enough so that these values have converged).\n",
        "\n",
        "- Compare your histogram for $g$ to a normal distribution of mean $\\mu=\\langle g \\rangle$ and standard deviation $\\sigma = \\Delta g$. (Make a plot of the normal distribution on top of the histogram. Be sure to normalize your histogram and choose a suitable number of bins.)"
      ]
    },
    {
      "cell_type": "code",
      "execution_count": 8,
      "metadata": {
        "id": "ItkGHsA6g5XY"
      },
      "outputs": [],
      "source": [
        "# Your answer to exercise 2 here\n",
        "a = 0\n",
        "b = 0.05\n",
        "arr_To = a + (b-a)*np.random.rand(5000)\n",
        "arrT = np.random.normal(1.835,0.005,5000)\n",
        "arrL = np.random.normal(0.855,0.002,5000)\n",
        "T = arr_To + arrT\n",
        "g_part2 = (arrL*4*(math.pi**2))/arrT**2"
      ]
    },
    {
      "cell_type": "code",
      "source": [
        "#Mean and Standard Deviation Results\n",
        "mu1 = np.mean(g_part2)\n",
        "sigma1 = np.std(g_part2)\n",
        "print(\"mean is \" +str(np.mean(g_part2)))\n",
        "print(\"standard deviation is \" + str(np.std(g_part2)))"
      ],
      "metadata": {
        "id": "JegIQRG3oc29",
        "outputId": "ed6a2692-9756-4f65-c3fd-99bce8748d5e",
        "colab": {
          "base_uri": "https://localhost:8080/"
        }
      },
      "execution_count": 9,
      "outputs": [
        {
          "output_type": "stream",
          "name": "stdout",
          "text": [
            "mean is 10.024058013891723\n",
            "standard deviation is 0.05892468656541658\n"
          ]
        }
      ]
    },
    {
      "cell_type": "code",
      "source": [
        "#Histogram\n",
        "plt.hist(g_part2,bins=20,density=True,label='sampling')\n",
        "plt.show()"
      ],
      "metadata": {
        "id": "ywhhNctsofcj",
        "outputId": "e53d0abc-5ee9-4676-96a3-ece01828d175",
        "colab": {
          "base_uri": "https://localhost:8080/",
          "height": 265
        }
      },
      "execution_count": 10,
      "outputs": [
        {
          "output_type": "display_data",
          "data": {
            "image/png": "[encoded data removed]",
            "text/plain": [
              "<Figure size 432x288 with 1 Axes>"
            ]
          },
          "metadata": {
            "needs_background": "light"
          }
        }
      ]
    },
    {
      "cell_type": "code",
      "source": [
        "#Histogram + Normal Distribution\n",
        "plt.hist(g_part2,bins=20,density=True,label='sampling')\n",
        "x = np.linspace(9.7,10.4)\n",
        "y = 1/np.sqrt(2*np.pi*sigma1**2) * np.exp(-0.5*(x-mu1)**2/sigma1**2)\n",
        "plt.plot(x,y,label='normal dist.')\n",
        "plt.legend()\n",
        "plt.show()"
      ],
      "metadata": {
        "id": "pze97MUUogM3",
        "outputId": "19150d3f-7a58-460b-9d96-8e60ecb8185c",
        "colab": {
          "base_uri": "https://localhost:8080/",
          "height": 265
        }
      },
      "execution_count": 11,
      "outputs": [
        {
          "output_type": "display_data",
          "data": {
            "image/png": "[encoded data removed]",
            "text/plain": [
              "<Figure size 432x288 with 1 Axes>"
            ]
          },
          "metadata": {
            "needs_background": "light"
          }
        }
      ]
    }
  ],
  "metadata": {
    "kernelspec": {
      "display_name": "Python 3",
      "language": "python",
      "name": "python3"
    },
    "language_info": {
      "codemirror_mode": {
        "name": "ipython",
        "version": 3
      },
      "file_extension": ".py",
      "mimetype": "text/x-python",
      "name": "python",
      "nbconvert_exporter": "python",
      "pygments_lexer": "ipython3",
      "version": "3.7.6"
    },
    "colab": {
      "name": "Exercise 1 - Normal distributions.ipynb",
      "provenance": []
    }
  },
  "nbformat": 4,
  "nbformat_minor": 0
}